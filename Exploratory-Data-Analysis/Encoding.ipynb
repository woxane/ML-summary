{
 "cells": [
  {
   "cell_type": "markdown",
   "id": "9553378d-b623-4f07-97a7-28c19e1ccdf4",
   "metadata": {},
   "source": [
    "# Section 0: Encoding\n",
    "\n",
    "Feature encoding is the process of converting categorical data into a numerical format that can be understood by machine learning algorithms. Most machine learning algorithms require input features to be numeric, and feature encoding allows categorical data to be transformed into a suitable format for modeling."
   ]
  },
  {
   "cell_type": "markdown",
   "id": "b920e33d-9d16-4ad8-94ee-78919214110f",
   "metadata": {},
   "source": [
    "# Types of Feature Encoding\n",
    "## Label Encoding\n",
    "Converts each category into a unique integer. "
   ]
  },
  {
   "cell_type": "code",
   "execution_count": 1,
   "id": "8d7040b5-a523-4b89-a8ff-656494cdfb9f",
   "metadata": {},
   "outputs": [],
   "source": [
    "from sklearn.preprocessing import LabelEncoder\n",
    "\n",
    "\n",
    "colors = [\"Red\", \"Blue\", \"Green\", \"Blue\", \"Green\"]\n",
    "\n",
    "label_encoder = LabelEncoder()\n",
    "\n",
    "encoded_colors = label_encoder.fit_transform(colors)"
   ]
  },
  {
   "cell_type": "code",
   "execution_count": 3,
   "id": "77bd9ad3-cf10-49f1-9f5d-d6c89a615581",
   "metadata": {},
   "outputs": [
    {
     "data": {
      "text/plain": [
       "array(['Blue', 'Green', 'Red'], dtype='<U5')"
      ]
     },
     "execution_count": 3,
     "metadata": {},
     "output_type": "execute_result"
    }
   ],
   "source": [
    "label_encoder.classes_"
   ]
  },
  {
   "cell_type": "code",
   "execution_count": 4,
   "id": "36989335-bb57-4445-8361-91d4621813f0",
   "metadata": {},
   "outputs": [
    {
     "data": {
      "text/plain": [
       "array([2, 0, 1, 0, 1])"
      ]
     },
     "execution_count": 4,
     "metadata": {},
     "output_type": "execute_result"
    }
   ],
   "source": [
    "encoded_colors"
   ]
  },
  {
   "cell_type": "code",
   "execution_count": 5,
   "id": "8a7509f3-5423-4f49-9ac9-d2fb59b39af3",
   "metadata": {},
   "outputs": [
    {
     "data": {
      "text/plain": [
       "array(['Red', 'Blue', 'Green', 'Blue', 'Green'], dtype='<U5')"
      ]
     },
     "execution_count": 5,
     "metadata": {},
     "output_type": "execute_result"
    }
   ],
   "source": [
    "label_encoder.inverse_transform(encoded_colors)"
   ]
  },
  {
   "cell_type": "markdown",
   "id": "497db520-d628-48c0-bcc5-c50f3f11e18e",
   "metadata": {},
   "source": [
    "## One-Hot Encoding\n",
    "Converts each category into a binary vector where only one bit is set to 1 (indicating the presence of the category) and all other bits are 0."
   ]
  },
  {
   "cell_type": "code",
   "execution_count": 9,
   "id": "075d0b16-f0c5-4633-885b-dc9f58eb2e01",
   "metadata": {},
   "outputs": [
    {
     "data": {
      "text/html": [
       "<div>\n",
       "<style scoped>\n",
       "    .dataframe tbody tr th:only-of-type {\n",
       "        vertical-align: middle;\n",
       "    }\n",
       "\n",
       "    .dataframe tbody tr th {\n",
       "        vertical-align: top;\n",
       "    }\n",
       "\n",
       "    .dataframe thead th {\n",
       "        text-align: right;\n",
       "    }\n",
       "</style>\n",
       "<table border=\"1\" class=\"dataframe\">\n",
       "  <thead>\n",
       "    <tr style=\"text-align: right;\">\n",
       "      <th></th>\n",
       "      <th>0</th>\n",
       "    </tr>\n",
       "  </thead>\n",
       "  <tbody>\n",
       "    <tr>\n",
       "      <th>0</th>\n",
       "      <td>Red</td>\n",
       "    </tr>\n",
       "    <tr>\n",
       "      <th>1</th>\n",
       "      <td>Blue</td>\n",
       "    </tr>\n",
       "    <tr>\n",
       "      <th>2</th>\n",
       "      <td>Green</td>\n",
       "    </tr>\n",
       "    <tr>\n",
       "      <th>3</th>\n",
       "      <td>Blue</td>\n",
       "    </tr>\n",
       "    <tr>\n",
       "      <th>4</th>\n",
       "      <td>Green</td>\n",
       "    </tr>\n",
       "  </tbody>\n",
       "</table>\n",
       "</div>"
      ],
      "text/plain": [
       "       0\n",
       "0    Red\n",
       "1   Blue\n",
       "2  Green\n",
       "3   Blue\n",
       "4  Green"
      ]
     },
     "execution_count": 9,
     "metadata": {},
     "output_type": "execute_result"
    }
   ],
   "source": [
    "import pandas as pd\n",
    "\n",
    "colors_df = pd.DataFrame(colors)\n",
    "colors_df"
   ]
  },
  {
   "cell_type": "code",
   "execution_count": 17,
   "id": "40ae144a-93bf-4f7c-a7f7-b0951eb97ef4",
   "metadata": {},
   "outputs": [
    {
     "data": {
      "text/plain": [
       "array([[0., 0., 1.],\n",
       "       [1., 0., 0.],\n",
       "       [0., 1., 0.],\n",
       "       [1., 0., 0.],\n",
       "       [0., 1., 0.]])"
      ]
     },
     "execution_count": 17,
     "metadata": {},
     "output_type": "execute_result"
    }
   ],
   "source": [
    "from sklearn.preprocessing import OneHotEncoder\n",
    "\n",
    "\n",
    "# First Way (Using  OneHotEncoder)\n",
    "one_hot_encoder = OneHotEncoder()\n",
    "encoded_colors = one_hot_encoder.fit_transform(colors_df)\n",
    "encoded_colors.toarray()"
   ]
  },
  {
   "cell_type": "code",
   "execution_count": 18,
   "id": "7555c666-4da1-4d3e-b27d-717fb57208a6",
   "metadata": {},
   "outputs": [
    {
     "data": {
      "text/plain": [
       "[array(['Blue', 'Green', 'Red'], dtype=object)]"
      ]
     },
     "execution_count": 18,
     "metadata": {},
     "output_type": "execute_result"
    }
   ],
   "source": [
    "one_hot_encoder.categories_"
   ]
  },
  {
   "cell_type": "code",
   "execution_count": 19,
   "id": "79847c0c-bbf7-4955-a2cf-de415ffd60de",
   "metadata": {},
   "outputs": [
    {
     "data": {
      "text/plain": [
       "array([['Red'],\n",
       "       ['Blue'],\n",
       "       ['Green'],\n",
       "       ['Blue'],\n",
       "       ['Green']], dtype=object)"
      ]
     },
     "execution_count": 19,
     "metadata": {},
     "output_type": "execute_result"
    }
   ],
   "source": [
    "one_hot_encoder.inverse_transform(encoded_colors.toarray())"
   ]
  },
  {
   "cell_type": "code",
   "execution_count": 20,
   "id": "b3b3c999-6a36-4c26-bf44-6754496d76a2",
   "metadata": {},
   "outputs": [
    {
     "data": {
      "text/html": [
       "<div>\n",
       "<style scoped>\n",
       "    .dataframe tbody tr th:only-of-type {\n",
       "        vertical-align: middle;\n",
       "    }\n",
       "\n",
       "    .dataframe tbody tr th {\n",
       "        vertical-align: top;\n",
       "    }\n",
       "\n",
       "    .dataframe thead th {\n",
       "        text-align: right;\n",
       "    }\n",
       "</style>\n",
       "<table border=\"1\" class=\"dataframe\">\n",
       "  <thead>\n",
       "    <tr style=\"text-align: right;\">\n",
       "      <th></th>\n",
       "      <th>0_Blue</th>\n",
       "      <th>0_Green</th>\n",
       "      <th>0_Red</th>\n",
       "    </tr>\n",
       "  </thead>\n",
       "  <tbody>\n",
       "    <tr>\n",
       "      <th>0</th>\n",
       "      <td>False</td>\n",
       "      <td>False</td>\n",
       "      <td>True</td>\n",
       "    </tr>\n",
       "    <tr>\n",
       "      <th>1</th>\n",
       "      <td>True</td>\n",
       "      <td>False</td>\n",
       "      <td>False</td>\n",
       "    </tr>\n",
       "    <tr>\n",
       "      <th>2</th>\n",
       "      <td>False</td>\n",
       "      <td>True</td>\n",
       "      <td>False</td>\n",
       "    </tr>\n",
       "    <tr>\n",
       "      <th>3</th>\n",
       "      <td>True</td>\n",
       "      <td>False</td>\n",
       "      <td>False</td>\n",
       "    </tr>\n",
       "    <tr>\n",
       "      <th>4</th>\n",
       "      <td>False</td>\n",
       "      <td>True</td>\n",
       "      <td>False</td>\n",
       "    </tr>\n",
       "  </tbody>\n",
       "</table>\n",
       "</div>"
      ],
      "text/plain": [
       "   0_Blue  0_Green  0_Red\n",
       "0   False    False   True\n",
       "1    True    False  False\n",
       "2   False     True  False\n",
       "3    True    False  False\n",
       "4   False     True  False"
      ]
     },
     "execution_count": 20,
     "metadata": {},
     "output_type": "execute_result"
    }
   ],
   "source": [
    "# Second Way (Using panda get_dummies)\n",
    "pd.get_dummies(colors_df)"
   ]
  },
  {
   "cell_type": "markdown",
   "id": "5294814c-51d9-4b98-9dda-5908d151c1a9",
   "metadata": {},
   "source": [
    "## Ordinal Encoding\n",
    "Assigns integer values to categories based on their order. For instance, if the feature is **Education Level** with categories `[\"High School\", \"Bachelors\", \"Masters\", \"PhD\"]`, it might be encoded as `[0, 1, 2, 3]`"
   ]
  },
  {
   "cell_type": "code",
   "execution_count": 21,
   "id": "b6e62446-dc97-4d92-99bd-61def54c271e",
   "metadata": {},
   "outputs": [],
   "source": [
    "from sklearn.preprocessing import OrdinalEncoder\n",
    "\n",
    "\n",
    "education_levels = np.array([[\"High School\"], [\"Bachelors\"], [\"Masters\"], [\"PhD\"], [\"Bachelors\"], [\"High School\"]])\n",
    "\n",
    "ordinal_encoder = OrdinalEncoder(categories=[[\"High School\", \"Bachelors\", \"Masters\", \"PhD\"]])\n",
    "\n",
    "encoded_levels = ordinal_encoder.fit_transform(education_levels)"
   ]
  },
  {
   "cell_type": "code",
   "execution_count": 25,
   "id": "0d268409-c38c-4092-8a40-4afa79948970",
   "metadata": {},
   "outputs": [
    {
     "data": {
      "text/plain": [
       "array([[0.],\n",
       "       [1.],\n",
       "       [2.],\n",
       "       [3.],\n",
       "       [1.],\n",
       "       [0.]])"
      ]
     },
     "execution_count": 25,
     "metadata": {},
     "output_type": "execute_result"
    }
   ],
   "source": [
    "encoded_levels"
   ]
  },
  {
   "cell_type": "code",
   "execution_count": 26,
   "id": "50b6832e-ea5f-49c7-9d45-714501063f78",
   "metadata": {},
   "outputs": [
    {
     "data": {
      "text/plain": [
       "[array(['High School', 'Bachelors', 'Masters', 'PhD'], dtype=object)]"
      ]
     },
     "execution_count": 26,
     "metadata": {},
     "output_type": "execute_result"
    }
   ],
   "source": [
    "ordinal_encoder.categories_"
   ]
  }
 ],
 "metadata": {
  "kernelspec": {
   "display_name": "Python 3 (ipykernel)",
   "language": "python",
   "name": "python3"
  },
  "language_info": {
   "codemirror_mode": {
    "name": "ipython",
    "version": 3
   },
   "file_extension": ".py",
   "mimetype": "text/x-python",
   "name": "python",
   "nbconvert_exporter": "python",
   "pygments_lexer": "ipython3",
   "version": "3.12.4"
  }
 },
 "nbformat": 4,
 "nbformat_minor": 5
}
