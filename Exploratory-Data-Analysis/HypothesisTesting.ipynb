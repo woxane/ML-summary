{
 "cells": [
  {
   "cell_type": "markdown",
   "id": "cd50c0b4-5a70-4f00-83fa-232ecf9ecfce",
   "metadata": {},
   "source": [
    "# Introduction to Hypothesis Testing\n",
    "\n",
    "Hypothesis testing is a statistical method used to make decisions about a population parameter based on sample data. It involves making an assumption (the null hypothesis) and then determining whether the observed data provides enough evidence to reject that assumption in favor of an alternative hypothesis.\n",
    "\n",
    "### Concepts:\n",
    "- **Null Hypothesis (H0):** The hypothesis that there is no effect or difference. It is the assumption that we start with.\n",
    "- **Alternative Hypothesis (H1):** The hypothesis that there is an effect or difference.\n",
    "- **Significance Level (α):** The threshold at which we decide whether to reject the null hypothesis, commonly set at 0.05.\n",
    "- **P-value:** The probability of observing the test statistic under the null hypothesis. If the p-value is less than α, we reject the null hypothesis.\n",
    "- **Type I Error:** Rejecting the null hypothesis when it is actually true.\n",
    "- **Type II Error:** Failing to reject the null hypothesis when it is actually false."
   ]
  },
  {
   "cell_type": "markdown",
   "id": "c9a97dda-fd68-4f40-b27e-fed615f300f0",
   "metadata": {},
   "source": [
    "# Steps in Hypothesis Testing\n",
    "\n",
    "1. **Formulate the Hypotheses:**\n",
    "   - **H0 (Null Hypothesis):** There is no difference or effect.\n",
    "   - **H1 (Alternative Hypothesis):** There is a difference or effect.\n",
    "   \n",
    "2. **Select a Significance Level (α):** Typically 0.05.\n",
    "\n",
    "3. **Choose the Appropriate Test:** Depending on the data and the hypothesis, select a test like a t-test, chi-square test, etc.\n",
    "\n",
    "4. **Compute the Test Statistic:** Use statistical software or formulas to calculate the test statistic from the sample data.\n",
    "\n",
    "5. **Make a Decision:** Compare the p-value with the significance level to decide whether to reject H0.\n"
   ]
  },
  {
   "cell_type": "markdown",
   "id": "b0c120f0-0302-4e6b-8701-5b893ce0f5f1",
   "metadata": {},
   "source": [
    "For better learning of this concept lets solve an example. we'll test the hypothesis that you have mystical abilities to predict the outcome of coin flips.\n",
    "\n",
    "## Scenario\n",
    "\n",
    "- We test your claim by having you predict the outcome of 100 coin flips.\n",
    "- You correctly predict 57 out of 100 flips.\n",
    "\n",
    "We'll use a hypothesis test to determine whether your performance is significantly different from random guessing (50%).\n",
    "\n",
    "## Step 1: Define the Hypotheses\n",
    "\n",
    "We'll consider two hypotheses:\n",
    "\n",
    "- **Null Hypothesis (H0):** You have no predictive power, so your true success rate is 50%.\n",
    "- **Alternative Hypothesis (H1):** You have predictive power."
   ]
  },
  {
   "cell_type": "code",
   "execution_count": 12,
   "id": "53397b41-cace-4474-92ef-9e68d901691d",
   "metadata": {},
   "outputs": [
    {
     "name": "stdout",
     "output_type": "stream",
     "text": [
      "P-value: 0.0966739522478214\n",
      "Fail to reject the null hypothesis. There's no evidence to suggest you're special.\n"
     ]
    }
   ],
   "source": [
    "import scipy.stats as stats\n",
    "\n",
    "# Number of trials\n",
    "n = 100\n",
    "\n",
    "# Number of successes\n",
    "k = 57\n",
    "\n",
    "# Probability under the null hypothesis\n",
    "p = 0.5\n",
    "\n",
    "# Perform the binomial test\n",
    "test = stats.binomtest(k, n, p, alternative='greater')\n",
    "p_value = test.pvalue\n",
    "\n",
    "print(f\"P-value: {p_value}\")\n",
    "\n",
    "# significance level\n",
    "alpha = 0.05\n",
    "\n",
    "if p_value < alpha:\n",
    "    print(\"Reject the null hypothesis. You might have mystical abilities!\")\n",
    "else:\n",
    "    print(\"Fail to reject the null hypothesis. There's no evidence to suggest you're special.\")"
   ]
  }
 ],
 "metadata": {
  "kernelspec": {
   "display_name": "Python 3 (ipykernel)",
   "language": "python",
   "name": "python3"
  },
  "language_info": {
   "codemirror_mode": {
    "name": "ipython",
    "version": 3
   },
   "file_extension": ".py",
   "mimetype": "text/x-python",
   "name": "python",
   "nbconvert_exporter": "python",
   "pygments_lexer": "ipython3",
   "version": "3.12.4"
  }
 },
 "nbformat": 4,
 "nbformat_minor": 5
}
