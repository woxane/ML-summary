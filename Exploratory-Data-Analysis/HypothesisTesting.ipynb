{
 "cells": [
  {
   "cell_type": "markdown",
   "id": "cd50c0b4-5a70-4f00-83fa-232ecf9ecfce",
   "metadata": {},
   "source": [
    "# Introduction to Hypothesis Testing\n",
    "\n",
    "Hypothesis testing is a statistical method used to make decisions about a population parameter based on sample data. It involves making an assumption (the null hypothesis) and then determining whether the observed data provides enough evidence to reject that assumption in favor of an alternative hypothesis.\n",
    "\n",
    "### Concepts:\n",
    "- **Null Hypothesis (H0):** The hypothesis that there is no effect or difference. It is the assumption that we start with.\n",
    "- **Alternative Hypothesis (H1):** The hypothesis that there is an effect or difference.\n",
    "- **Significance Level (α):** The threshold at which we decide whether to reject the null hypothesis, commonly set at 0.05.\n",
    "- **P-value:** The probability of observing the test statistic under the null hypothesis. If the p-value is less than α, we reject the null hypothesis.\n",
    "- **Type I Error:** Rejecting the null hypothesis when it is actually true.\n",
    "- **Type II Error:** Failing to reject the null hypothesis when it is actually false."
   ]
  },
  {
   "cell_type": "markdown",
   "id": "c9a97dda-fd68-4f40-b27e-fed615f300f0",
   "metadata": {},
   "source": [
    "# Steps in Hypothesis Testing\n",
    "\n",
    "1. **Formulate the Hypotheses:**\n",
    "   - **H0 (Null Hypothesis):** There is no difference or effect.\n",
    "   - **H1 (Alternative Hypothesis):** There is a difference or effect.\n",
    "   \n",
    "2. **Select a Significance Level (α):** Typically 0.05.\n",
    "\n",
    "3. **Choose the Appropriate Test:** Depending on the data and the hypothesis, select a test like a t-test, chi-square test, etc.\n",
    "\n",
    "4. **Compute the Test Statistic:** Use statistical software or formulas to calculate the test statistic from the sample data.\n",
    "\n",
    "5. **Make a Decision:** Compare the p-value with the significance level to decide whether to reject H0.\n"
   ]
  },
  {
   "cell_type": "markdown",
   "id": "b0c120f0-0302-4e6b-8701-5b893ce0f5f1",
   "metadata": {},
   "source": [
    "For better learning of this concept lets solve an example. we'll test the hypothesis that you have mystical abilities to predict the outcome of coin flips.\n",
    "\n",
    "## Scenario\n",
    "\n",
    "- We test your claim by having you predict the outcome of 100 coin flips.\n",
    "- You correctly predict 57 out of 100 flips.\n",
    "\n",
    "We'll use a hypothesis test to determine whether your performance is significantly different from random guessing (50%).\n",
    "\n",
    "## Step 1: Define the Hypotheses\n",
    "\n",
    "We'll consider two hypotheses:\n",
    "\n",
    "- **Null Hypothesis (H0):** You have no predictive power, so your true success rate is 50%.\n",
    "- **Alternative Hypothesis (H1):** You have predictive power."
   ]
  },
  {
   "cell_type": "code",
   "execution_count": 12,
   "id": "53397b41-cace-4474-92ef-9e68d901691d",
   "metadata": {},
   "outputs": [
    {
     "name": "stdout",
     "output_type": "stream",
     "text": [
      "P-value: 0.0966739522478214\n",
      "Fail to reject the null hypothesis. There's no evidence to suggest you're special.\n"
     ]
    }
   ],
   "source": [
    "import scipy.stats as stats\n",
    "\n",
    "# Number of trials\n",
    "n = 100\n",
    "\n",
    "# Number of successes\n",
    "k = 57\n",
    "\n",
    "# Probability under the null hypothesis\n",
    "p = 0.5\n",
    "\n",
    "# Perform the binomial test\n",
    "test = stats.binomtest(k, n, p, alternative='greater')\n",
    "p_value = test.pvalue\n",
    "\n",
    "print(f\"P-value: {p_value}\")\n",
    "\n",
    "# significance level\n",
    "alpha = 0.05\n",
    "\n",
    "if p_value < alpha:\n",
    "    print(\"Reject the null hypothesis. You might have mystical abilities!\")\n",
    "else:\n",
    "    print(\"Fail to reject the null hypothesis. There's no evidence to suggest you're special.\")"
   ]
  },
  {
   "cell_type": "markdown",
   "id": "47ae048d-bdb2-44ae-94de-253f4c5981c2",
   "metadata": {},
   "source": [
    "Now let's talk about some tests in hypothesis testing"
   ]
  },
  {
   "cell_type": "markdown",
   "id": "bc54f0fa-1715-400c-8a3c-6a4e285239c0",
   "metadata": {},
   "source": [
    "# Z-Test\n",
    "\n",
    "## When to Use:\n",
    "- When you want to compare the mean of a sample to a known population mean.\n",
    "- The sample size is large (n > 30), and the population standard deviation is known.\n",
    "\n",
    "### Example:\n",
    "Testing if the average height of a sample of men in a city is different from the national average height of 175 cm.\n",
    "\n",
    "- **Null Hypothesis (H₀):** The average height of men in the city is equal to the national average height.\n",
    "$$H_0: \\mu = 175$$\n",
    "- **Alternative Hypothesis (H₁):** The average height of men in the city is different from the national average height.\n",
    "$$H_1: \\mu \\neq 175$$\n"
   ]
  },
  {
   "cell_type": "code",
   "execution_count": 2,
   "id": "957119de-e201-47d0-9a92-5308f06aa9ab",
   "metadata": {},
   "outputs": [
    {
     "name": "stdout",
     "output_type": "stream",
     "text": [
      "Z-Value: 3.5355339059327378\n",
      "P-Value: 0.00040695201744500586\n"
     ]
    }
   ],
   "source": [
    "import numpy as np\n",
    "from scipy import stats\n",
    "\n",
    "\n",
    "sample_mean = 180\n",
    "population_mean = 175\n",
    "std_dev = 10\n",
    "n = 50  \n",
    "\n",
    "z = (sample_mean - population_mean) / (std_dev / np.sqrt(n))\n",
    "p_value = 2 * (1 - stats.norm.cdf(abs(z)))\n",
    "\n",
    "print(f\"Z-Value: {z}\")\n",
    "print(f\"P-Value: {p_value}\")"
   ]
  },
  {
   "cell_type": "markdown",
   "id": "22ea4b0d-4b50-419f-a244-367db1266571",
   "metadata": {},
   "source": [
    "# T-Test\n",
    "\n",
    "## When to Use:\n",
    "\n",
    "- When comparing the means of two groups (independent or paired) or when comparing the mean of a sample to a known population mean.\n",
    "- Sample size is small (n < 30), and the population standard deviation is unknown.\n",
    "  \n",
    "## Types of T-Tests:\n",
    "- **One-Sample T-Test:** Compare sample mean to a known population mean.\n",
    "- **Independent Two-Sample T-Test:** Compare the means of two independent groups.\n",
    "- **Paired T-Test:** Compare the means of two related groups (e.g., before and after treatment).\n",
    "\n",
    "### Example:\n",
    "Testing if the average scores of students from two different classes are significantly different.\n",
    "\n",
    "- Null Hypothesis (H₀): The average scores of students in Class A and Class B are equal.\n",
    "$$H_0: \\mu_A = \\mu_B$$\n",
    " \n",
    "- Alternative Hypothesis (H₁): The average scores of students in Class A and Class B are not equal.\n",
    "$$H_1: \\mu_A \\neq \\mu_B$$\n",
    " "
   ]
  },
  {
   "cell_type": "code",
   "execution_count": 8,
   "id": "5ef4fd70-4a1d-4468-8f35-8904be822d05",
   "metadata": {},
   "outputs": [
    {
     "name": "stdout",
     "output_type": "stream",
     "text": [
      "T-Statistic: 1.9498010508590455\n",
      "P-Value: 0.08701892760875735\n"
     ]
    }
   ],
   "source": [
    "class_A_scores = [85, 87, 88, 90, 85]\n",
    "class_B_scores = [78, 89, 85, 80, 82]\n",
    "\n",
    "# Independent Two-Sample T-Test\n",
    "t_stat, p_value = stats.ttest_ind(class_A_scores, class_B_scores)\n",
    "\n",
    "print(f\"T-Statistic: {t_stat}\")\n",
    "print(f\"P-Value: {p_value}\")"
   ]
  },
  {
   "cell_type": "markdown",
   "id": "a856559a-eaeb-4da3-8e69-1836efbd5a4f",
   "metadata": {},
   "source": [
    "# Chi-Square Test\n",
    "\n",
    "## When to Use:\n",
    "- When you want to test the independence of two categorical variables or the goodness of fit between observed and expected frequencies.\n",
    "- Categories should have an expected frequency of at least 5.\n",
    "  \n",
    "## Types of Chi-Square Tests:\n",
    "- **Chi-Square Test for Independence:** Tests if two categorical variables are independent.\n",
    "- **Chi-Square Goodness-of-Fit Test:** Tests if observed frequencies match expected frequencies.\n",
    "\n",
    "### Example:\n",
    "Testing if there is an association between gender and preference for a new product.\n",
    "- **Null Hypothesis (H₀):** There is no association between gender and preference for the new product (they are independent).\n",
    "$$H_0: \\text{Gender and Preference are independent}$$\n",
    "- **Alternative Hypothesis (H₁):** There is an association between gender and preference for the new product (they are not independent).\n",
    "$$H_1: \\text{Gender and Preference are not independent}$$\n"
   ]
  },
  {
   "cell_type": "code",
   "execution_count": 9,
   "id": "eb31f62d-f9cf-40ee-9ef1-62dcd89ce78a",
   "metadata": {},
   "outputs": [
    {
     "name": "stdout",
     "output_type": "stream",
     "text": [
      "Chi-Square Statistic: 22.264309764309765\n",
      "P-Value: 2.375816149275661e-06\n"
     ]
    }
   ],
   "source": [
    "import pandas as pd\n",
    "\n",
    "\n",
    "data = pd.DataFrame({\n",
    "    'Male': [30, 10],\n",
    "    'Female': [15, 45]\n",
    "}, index=['Like', 'Dislike'])\n",
    "\n",
    "chi2, p, dof, expected = stats.chi2_contingency(data)\n",
    "\n",
    "print(f\"Chi-Square Statistic: {chi2}\")\n",
    "print(f\"P-Value: {p}\")"
   ]
  },
  {
   "cell_type": "markdown",
   "id": "0fb995ef-d4de-44e9-883d-0b8f5d7dd884",
   "metadata": {},
   "source": [
    "# ANOVA (Analysis of Variance)\n",
    "\n",
    "## When to Use:\n",
    "\n",
    "- When comparing the means of three or more groups.\n",
    "- Data is normally distributed, and variances are similar across groups.\n",
    "\n",
    "### Example:\n",
    "Testing if the average scores are different across three teaching methods.\n",
    "\n",
    "- **Null Hypothesis (H₀):** The average scores are the same across all three teaching methods.\n",
    "$$H_0: \\mu_A = \\mu_B = \\mu_C$$\n",
    "- **Alternative Hypothesis (H₁):** At least one teaching method has a different average score.\n",
    "$$H_1: \\text{At least one } \\mu \\text{ is different}$$"
   ]
  },
  {
   "cell_type": "code",
   "execution_count": 11,
   "id": "8a92ad2d-2831-48c4-a783-7cb2661eafdf",
   "metadata": {},
   "outputs": [
    {
     "name": "stdout",
     "output_type": "stream",
     "text": [
      "F-Statistic: 4.741880341880339\n",
      "P-Value: 0.03036866078635405\n"
     ]
    }
   ],
   "source": [
    "method_A = [85, 86, 88, 75, 78]\n",
    "method_B = [82, 79, 85, 89, 90]\n",
    "method_C = [92, 94, 89, 88, 91]\n",
    "\n",
    "\n",
    "f_stat, p_value = stats.f_oneway(method_A, method_B, method_C)\n",
    "\n",
    "print(f\"F-Statistic: {f_stat}\")\n",
    "print(f\"P-Value: {p_value}\")\n"
   ]
  },
  {
   "cell_type": "markdown",
   "id": "18e841bf-42ed-4eb2-a35e-167d4113564f",
   "metadata": {},
   "source": [
    "# Mann-Whitney U Test\n",
    "\n",
    "## When to Use:\n",
    "- When comparing the medians of two independent groups, especially when data is not normally distributed.\n",
    "- Non-parametric test, no assumption about the distribution of the data.\n",
    "\n",
    "### Example:\n",
    "Comparing the satisfaction scores of two different customer groups.\n",
    "\n",
    "- **Null Hypothesis (H₀):** The median performance before and after the training program is the same.\n",
    "$$H_0: \\text{Distribution of scores in Group 1} = \\text{Distribution of scores in Group 2}$$\n",
    "- **Alternative Hypothesis (H₁):** The median performance before and after the training program is different.\n",
    "$$H_1: \\text{Distribution of scores in Group 1} \\neq \\text{Distribution of scores in Group 2}$$"
   ]
  },
  {
   "cell_type": "code",
   "execution_count": 14,
   "id": "9a3a089d-8e8d-4867-b548-46c5b0695b5a",
   "metadata": {},
   "outputs": [
    {
     "name": "stdout",
     "output_type": "stream",
     "text": [
      "U-Statistic: 14.0\n",
      "P-Value: 0.8412698412698413\n"
     ]
    }
   ],
   "source": [
    "group_1 = [55, 65, 70, 75, 80]\n",
    "group_2 = [60, 62, 68, 74, 78]\n",
    "\n",
    "\n",
    "u_stat, p_value = stats.mannwhitneyu(group_1, group_2)\n",
    "\n",
    "print(f\"U-Statistic: {u_stat}\")\n",
    "print(f\"P-Value: {p_value}\")"
   ]
  },
  {
   "cell_type": "markdown",
   "id": "b483afa9-ca1d-4bc4-a365-7b9934d8f68b",
   "metadata": {},
   "source": [
    "# Wilcoxon Signed-Rank Test\n",
    "\n",
    "## When to Use:\n",
    "- When comparing the medians of two related groups, especially when data is not normally distributed.\n",
    "- Non-parametric, for paired samples.\n",
    "\n",
    "### Example:\n",
    "Comparing the performance of students before and after a training program.\n",
    "\n",
    "- **Null Hypothesis (H₀):** The median performance before and after the training program is the same.\n",
    "$$H_0: \\text{Median}_{\\text{Before}} = \\text{Median}_{\\text{After}}$$\n",
    "- **Alternative Hypothesis (H₁):** The median performance before and after the training program is different.\n",
    "$$H_1: \\text{Median}_{\\text{Before}} \\neq \\text{Median}_{\\text{After}}$$"
   ]
  },
  {
   "cell_type": "code",
   "execution_count": 17,
   "id": "f10316ff-2b61-4c8f-b4fa-3fa03c12984c",
   "metadata": {},
   "outputs": [
    {
     "name": "stdout",
     "output_type": "stream",
     "text": [
      "Wilcoxon Statistic: 0.0\n",
      "P-Value: 0.0625\n"
     ]
    }
   ],
   "source": [
    "before = [50, 55, 60, 62, 65]\n",
    "after = [60, 65, 70, 72, 75]\n",
    "\n",
    "\n",
    "w_stat, p_value = stats.wilcoxon(before, after)\n",
    "\n",
    "print(f\"Wilcoxon Statistic: {w_stat}\")\n",
    "print(f\"P-Value: {p_value}\")"
   ]
  },
  {
   "cell_type": "markdown",
   "id": "5e3adc74-7a3a-4322-a283-e3fdd6a44e19",
   "metadata": {},
   "source": [
    "# Kruskal-Wallis H Test\n",
    "\n",
    "## When to Use:\n",
    "- When comparing the medians of three or more independent groups, especially when data is not normally distributed.\n",
    "- Non-parametric test, no assumption about the distribution of the data.\n",
    "\n",
    "### Example:\n",
    "Comparing the performance scores across three different departments in a company.\n",
    "\n",
    "- **Null Hypothesis (H₀):** The distribution of performance scores is the same across all three departments.\n",
    "\n",
    "- **Alternative Hypothesis (H₁):** The distribution of performance scores is different in at least one department."
   ]
  }
 ],
 "metadata": {
  "kernelspec": {
   "display_name": "Python 3 (ipykernel)",
   "language": "python",
   "name": "python3"
  },
  "language_info": {
   "codemirror_mode": {
    "name": "ipython",
    "version": 3
   },
   "file_extension": ".py",
   "mimetype": "text/x-python",
   "name": "python",
   "nbconvert_exporter": "python",
   "pygments_lexer": "ipython3",
   "version": "3.12.4"
  }
 },
 "nbformat": 4,
 "nbformat_minor": 5
}
